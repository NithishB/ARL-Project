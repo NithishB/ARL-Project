{
 "cells": [
  {
   "cell_type": "code",
   "execution_count": 1,
   "metadata": {},
   "outputs": [],
   "source": [
    "import os\n",
    "import cv2\n",
    "import numpy as np\n",
    "import matplotlib.pyplot as plt\n",
    "from skimage.morphology import skeletonize"
   ]
  },
  {
   "cell_type": "markdown",
   "metadata": {},
   "source": [
    "## Collect points from video"
   ]
  },
  {
   "cell_type": "code",
   "execution_count": 2,
   "metadata": {},
   "outputs": [],
   "source": [
    "all_x, all_y = [],[]\n",
    "collect_x, collect_y = [],[]\n",
    "cap = cv2.VideoCapture('top.mp4')\n",
    "while(cap.isOpened()):\n",
    "    ret, frame = cap.read()\n",
    "    if ret:\n",
    "        # removing background\n",
    "        alpha = 3.0\n",
    "        beta = -160\n",
    "        frame = alpha * frame + beta\n",
    "        frame = np.clip(frame, 0, 255).astype(np.uint8)\n",
    "        # Convert to grayscale and binary threshold\n",
    "        img_grey = cv2.cvtColor(frame, cv2.COLOR_BGR2GRAY)\n",
    "        ret,img_grey = cv2.threshold(img_grey,50,255,cv2.THRESH_BINARY)\n",
    "        # Erode more background to get thicker snake\n",
    "        kernel = cv2.getStructuringElement(cv2.MORPH_CROSS,(3,3))\n",
    "        erosion = cv2.erode(img_grey,np.ones((5,5),dtype='uint8'),iterations=10)\n",
    "        # Manually invert binarization\n",
    "        erosion[erosion==0] = 1\n",
    "        erosion[erosion==255] = 0\n",
    "        # skeletonoze foreground/snake\n",
    "        erosion = np.array(skeletonize(erosion), dtype='uint8')\n",
    "        # manually binarize\n",
    "        erosion[erosion==0] = 255\n",
    "        erosion[erosion==1] = 0\n",
    "        # get points of snake body\n",
    "        indices = np.where(erosion==0)\n",
    "        all_y.extend(indices[0].tolist())\n",
    "        all_x.extend(indices[1].tolist())\n",
    "        collect_y.append(indices[0].tolist())\n",
    "        collect_x.append(indices[1].tolist())\n",
    "        # plot snake\n",
    "        cv2.imshow('Frame', erosion)\n",
    "        if cv2.waitKey(25) & 0xFF == ord('q'):\n",
    "            break\n",
    "    else: \n",
    "        break\n",
    "cap.release()\n",
    "cv2.destroyAllWindows()"
   ]
  },
  {
   "cell_type": "code",
   "execution_count": 5,
   "metadata": {},
   "outputs": [],
   "source": [
    "def restructure_data(collect_x, collect_y):\n",
    "    new_x, new_y = [], []\n",
    "    sc = StandardScaler()\n",
    "    for i in range(len(collect_x)):\n",
    "        x1 = np.array(collect_x[i])-min(collect_x[i])\n",
    "        y1 = sc.fit_transform(np.array(collect_y[i]).reshape((-1,1))).reshape((-1,))\n",
    "        ind = np.argsort(x1)\n",
    "        x1, y1 = x1[ind], y1[ind]\n",
    "        new_x.append(np.deg2rad(x1))\n",
    "        new_y.append(y1)\n",
    "    return new_x, new_y"
   ]
  },
  {
   "cell_type": "code",
   "execution_count": 6,
   "metadata": {},
   "outputs": [],
   "source": [
    "new_x, new_y = restructure_data(collect_x, collect_y)"
   ]
  },
  {
   "cell_type": "code",
   "execution_count": 13,
   "metadata": {},
   "outputs": [],
   "source": [
    "np.savez_compressed('points', ax=all_x, ay=all_y, cx=collect_x, cy=collect_y, nx=new_x, ny=new_y)"
   ]
  }
 ],
 "metadata": {
  "kernelspec": {
   "display_name": "Python 3",
   "language": "python",
   "name": "python3"
  },
  "language_info": {
   "codemirror_mode": {
    "name": "ipython",
    "version": 3
   },
   "file_extension": ".py",
   "mimetype": "text/x-python",
   "name": "python",
   "nbconvert_exporter": "python",
   "pygments_lexer": "ipython3",
   "version": "3.6.9"
  }
 },
 "nbformat": 4,
 "nbformat_minor": 4
}

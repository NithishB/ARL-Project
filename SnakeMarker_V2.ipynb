{
 "cells": [
  {
   "cell_type": "code",
   "execution_count": 1,
   "metadata": {},
   "outputs": [],
   "source": [
    "import os\n",
    "import numpy as np\n",
    "import matplotlib.pyplot as plt\n",
    "from sklearn.preprocessing import StandardScaler\n",
    "from symfit import parameters, variables, sin, cos, Fit"
   ]
  },
  {
   "cell_type": "markdown",
   "metadata": {},
   "source": [
    "## Loading points"
   ]
  },
  {
   "cell_type": "code",
   "execution_count": 2,
   "metadata": {},
   "outputs": [],
   "source": [
    "loaded = np.load('points.npz', allow_pickle=True)"
   ]
  },
  {
   "cell_type": "code",
   "execution_count": 8,
   "metadata": {},
   "outputs": [],
   "source": [
    "class SnakeFitter:\n",
    "    def __init__(self, all_x, all_y, collect_x, collect_y, new_x, new_y, n=7):\n",
    "        self.ax = all_x\n",
    "        self.ay = all_y\n",
    "        self.cx = collect_x\n",
    "        self.cy = collect_y\n",
    "        self.nx = new_x\n",
    "        self.ny = new_y\n",
    "        self.n = n\n",
    "    \n",
    "    def fourier_series(self, x, f):\n",
    "        \"\"\"\n",
    "        Returns a symbolic fourier series of order `n`.\n",
    "\n",
    "        :param n: Order of the fourier series.\n",
    "        :param x: Independent variable\n",
    "        :param f: Frequency of the fourier series\n",
    "        \"\"\"\n",
    "        # Make the parameter objects for all the terms\n",
    "        a0, *cos_a = parameters(','.join(['a{}'.format(i) for i in range(0, self.n + 1)]))\n",
    "        sin_b = parameters(','.join(['b{}'.format(i) for i in range(1, self.n + 1)]))\n",
    "        # Construct the series\n",
    "        series = a0 + sum(ai * cos(i * f * x) + bi * sin(i * f * x)\n",
    "                         for i, (ai, bi) in enumerate(zip(cos_a, sin_b), start=1))\n",
    "        return series\n",
    "    \n",
    "    def fit(self, k=0):\n",
    "        x, y = variables('x, y')\n",
    "        self.w, = parameters('w')\n",
    "        model_dict = {y: self.fourier_series(x, f=self.w)}\n",
    "        print(model_dict)\n",
    "\n",
    "        # Make step function data\n",
    "        xdata = self.nx[k]\n",
    "        ydata = self.ny[k]\n",
    "        # Define a Fit object for this model and data\n",
    "        fit = Fit(model_dict, x=xdata, y=ydata)\n",
    "        self.fit_result = fit.execute()\n",
    "        self.a0 = self.fit_result.params['a0']\n",
    "        self.w = self.fit_result.params['w']\n",
    "        self.cos_a = [self.fit_result.params['a'+str(j)] for j in range(1,self.n)]\n",
    "        self.sin_b = [self.fit_result.params['b'+str(j)] for j in range(1,self.n)]\n",
    "        \n",
    "    def get_value(self, x):\n",
    "        series = self.a0 + sum(ai*np.cos(i*self.w*x)+bi*np.sin(i*self.w*x) \n",
    "                               for i,(ai,bi) in enumerate(zip(self.cos_a, self.sin_b), start=1))\n",
    "        return series\n",
    "    \n",
    "    def plot_graph(self, k=0):\n",
    "        xd, yd, yn = self.nx[k], self.ny[k], self.get_value(self.nx[k])\n",
    "        plt.plot(xd, yd, 'g', label='data')\n",
    "        plt.plot(xd, yn, 'r.', label='fit')\n",
    "        plt.xlabel('x')\n",
    "        plt.ylabel('y')\n",
    "        plt.legend()\n",
    "        plt.show()\n",
    "    \n",
    "    def phase_calculator(self):\n",
    "        for i in range(len(self.cy)):\n",
    "            min_dist = 100000000000000000000\n",
    "            min_ind = -1\n",
    "            for j in range(i+1, len(self.cy)):\n",
    "                if len(self.cy[i])==len(self.cy[j]):\n",
    "                    dist = np.linalg.norm(np.array(self.cy[i])-np.array(self.cy[j]))\n",
    "                else:\n",
    "                    common_length = min(len(self.cy[i]),len(self.cy[j]))\n",
    "                    dist = np.linalg.norm(np.array(self.cy[i][:common_length])-np.array(self.cy[j][:common_length]))\n",
    "                if dist < min_dist:\n",
    "                    min_dist = dist\n",
    "                    min_ind = j\n",
    "            break\n",
    "        print(min_ind)\n",
    "        self.manual_time_period = min_ind"
   ]
  },
  {
   "cell_type": "code",
   "execution_count": 9,
   "metadata": {},
   "outputs": [],
   "source": [
    "obj = SnakeFitter(loaded['ax'], loaded['ay'], loaded['cx'], loaded['cy'], loaded['nx'], loaded['ny'], n=7)"
   ]
  },
  {
   "cell_type": "code",
   "execution_count": 10,
   "metadata": {},
   "outputs": [
    {
     "name": "stdout",
     "output_type": "stream",
     "text": [
      "{y: a0 + a1*cos(w*x) + a2*cos(2*w*x) + a3*cos(3*w*x) + a4*cos(4*w*x) + a5*cos(5*w*x) + a6*cos(6*w*x) + a7*cos(7*w*x) + b1*sin(w*x) + b2*sin(2*w*x) + b3*sin(3*w*x) + b4*sin(4*w*x) + b5*sin(5*w*x) + b6*sin(6*w*x) + b7*sin(7*w*x)}\n"
     ]
    }
   ],
   "source": [
    "obj.fit(k=10)"
   ]
  },
  {
   "cell_type": "code",
   "execution_count": 11,
   "metadata": {},
   "outputs": [
    {
     "data": {
      "image/png": "[encoded data removed]",
      "text/plain": [
       "<Figure size 432x288 with 1 Axes>"
      ]
     },
     "metadata": {
      "needs_background": "light"
     },
     "output_type": "display_data"
    }
   ],
   "source": [
    "obj.plot_graph(k=10)"
   ]
  },
  {
   "cell_type": "code",
   "execution_count": 12,
   "metadata": {},
   "outputs": [
    {
     "name": "stdout",
     "output_type": "stream",
     "text": [
      "160\n"
     ]
    }
   ],
   "source": [
    "obj.phase_calculator()"
   ]
  },
  {
   "cell_type": "code",
   "execution_count": null,
   "metadata": {},
   "outputs": [],
   "source": []
  }
 ],
 "metadata": {
  "kernelspec": {
   "display_name": "Python 3",
   "language": "python",
   "name": "python3"
  },
  "language_info": {
   "codemirror_mode": {
    "name": "ipython",
    "version": 3
   },
   "file_extension": ".py",
   "mimetype": "text/x-python",
   "name": "python",
   "nbconvert_exporter": "python",
   "pygments_lexer": "ipython3",
   "version": "3.6.9"
  }
 },
 "nbformat": 4,
 "nbformat_minor": 4
}

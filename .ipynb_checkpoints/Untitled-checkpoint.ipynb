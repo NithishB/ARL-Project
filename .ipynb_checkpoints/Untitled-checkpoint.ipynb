{
 "cells": [
  {
   "cell_type": "code",
   "execution_count": 2,
   "metadata": {},
   "outputs": [],
   "source": [
    "import os\n",
    "import cv2\n",
    "import numpy as np"
   ]
  },
  {
   "cell_type": "code",
   "execution_count": 25,
   "metadata": {},
   "outputs": [],
   "source": [
    "cap = cv2.VideoCapture('/home/local/ASUAD/nmoudhga/Downloads/top.mp4')\n",
    "while(cap.isOpened()):\n",
    "    ret, frame = cap.read()\n",
    "    if ret:\n",
    "        img_grey = cv2.cvtColor(frame, cv2.COLOR_BGR2GRAY)\n",
    "        ret,img_grey = cv2.threshold(img_grey,5,255,cv2.THRESH_BINARY)\n",
    "#         img_grey = cv2.medianBlur(img_grey,5).astype('uint8')\n",
    "        contours, hierarchy = cv2.findContours(img_grey,cv2.RETR_TREE,cv2.CHAIN_APPROX_SIMPLE)\n",
    "        plain_img = np.ones_like(img_grey)*255\n",
    "        plain_img = cv2.drawContours(plain_img, contours, -1, (0,255,0), 3)\n",
    "#         img_grey = cv2.adaptiveThreshold(img_grey,255,cv2.ADAPTIVE_THRESH_GAUSSIAN_C,cv2.THRESH_BINARY,11,2)\n",
    "        cv2.imshow('Frame',plain_img)\n",
    "        if cv2.waitKey(25) & 0xFF == ord('q'):\n",
    "            break\n",
    "    else: \n",
    "        break\n",
    "cap.release()\n",
    "cv2.destroyAllWindows()"
   ]
  },
  {
   "cell_type": "code",
   "execution_count": null,
   "metadata": {},
   "outputs": [],
   "source": []
  }
 ],
 "metadata": {
  "kernelspec": {
   "display_name": "Python 3",
   "language": "python",
   "name": "python3"
  },
  "language_info": {
   "codemirror_mode": {
    "name": "ipython",
    "version": 3
   },
   "file_extension": ".py",
   "mimetype": "text/x-python",
   "name": "python",
   "nbconvert_exporter": "python",
   "pygments_lexer": "ipython3",
   "version": "3.6.9"
  }
 },
 "nbformat": 4,
 "nbformat_minor": 4
}
